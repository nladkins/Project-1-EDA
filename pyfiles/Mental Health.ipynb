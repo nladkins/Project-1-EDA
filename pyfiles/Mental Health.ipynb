{
 "cells": [
  {
   "cell_type": "code",
   "execution_count": 35,
   "id": "363ba282",
   "metadata": {},
   "outputs": [],
   "source": [
    "# Dependencies and Setup\n",
    "import numpy\n",
    "import matplotlib.pyplot as plt\n",
    "import pandas as pd\n",
    "import numpy as np\n",
    "import json\n",
    "from pprint import pprint\n",
    "from scipy import stats\n",
    "import seaborn as sns\n",
    "%matplotlib inline\n",
    "sns.set_style('ticks')\n",
    "\n",
    "# Study data file\n",
    "Indicators_path = \"Indictors.csv\"\n",
    "\n",
    "Indicators_df = pd.read_csv(Indicators_path)"
   ]
  },
  {
   "cell_type": "code",
   "execution_count": 36,
   "id": "9a6a29cf",
   "metadata": {},
   "outputs": [
    {
     "data": {
      "text/html": [
       "<div>\n",
       "<style scoped>\n",
       "    .dataframe tbody tr th:only-of-type {\n",
       "        vertical-align: middle;\n",
       "    }\n",
       "\n",
       "    .dataframe tbody tr th {\n",
       "        vertical-align: top;\n",
       "    }\n",
       "\n",
       "    .dataframe thead th {\n",
       "        text-align: right;\n",
       "    }\n",
       "</style>\n",
       "<table border=\"1\" class=\"dataframe\">\n",
       "  <thead>\n",
       "    <tr style=\"text-align: right;\">\n",
       "      <th></th>\n",
       "      <th>Indicator</th>\n",
       "      <th>Group</th>\n",
       "      <th>State</th>\n",
       "      <th>Subgroup</th>\n",
       "      <th>Phase</th>\n",
       "      <th>Time Period</th>\n",
       "      <th>Time Period Label</th>\n",
       "      <th>Time Period Start Date</th>\n",
       "      <th>Time Period End Date</th>\n",
       "      <th>Value</th>\n",
       "      <th>Low CI</th>\n",
       "      <th>High CI</th>\n",
       "      <th>Confidence Interval</th>\n",
       "      <th>Quartile Range</th>\n",
       "    </tr>\n",
       "  </thead>\n",
       "  <tbody>\n",
       "    <tr>\n",
       "      <th>0</th>\n",
       "      <td>Symptoms of Depressive Disorder</td>\n",
       "      <td>National Estimate</td>\n",
       "      <td>United States</td>\n",
       "      <td>United States</td>\n",
       "      <td>1</td>\n",
       "      <td>1</td>\n",
       "      <td>Apr 23 - May 5, 2020</td>\n",
       "      <td>04/23/2020</td>\n",
       "      <td>05/05/2020</td>\n",
       "      <td>23.5</td>\n",
       "      <td>22.7</td>\n",
       "      <td>24.3</td>\n",
       "      <td>22.7 - 24.3</td>\n",
       "      <td>NaN</td>\n",
       "    </tr>\n",
       "    <tr>\n",
       "      <th>1</th>\n",
       "      <td>Symptoms of Depressive Disorder</td>\n",
       "      <td>By Age</td>\n",
       "      <td>United States</td>\n",
       "      <td>18 - 29 years</td>\n",
       "      <td>1</td>\n",
       "      <td>1</td>\n",
       "      <td>Apr 23 - May 5, 2020</td>\n",
       "      <td>04/23/2020</td>\n",
       "      <td>05/05/2020</td>\n",
       "      <td>32.7</td>\n",
       "      <td>30.2</td>\n",
       "      <td>35.2</td>\n",
       "      <td>30.2 - 35.2</td>\n",
       "      <td>NaN</td>\n",
       "    </tr>\n",
       "  </tbody>\n",
       "</table>\n",
       "</div>"
      ],
      "text/plain": [
       "                         Indicator              Group          State  \\\n",
       "0  Symptoms of Depressive Disorder  National Estimate  United States   \n",
       "1  Symptoms of Depressive Disorder             By Age  United States   \n",
       "\n",
       "        Subgroup Phase  Time Period     Time Period Label  \\\n",
       "0  United States     1            1  Apr 23 - May 5, 2020   \n",
       "1  18 - 29 years     1            1  Apr 23 - May 5, 2020   \n",
       "\n",
       "  Time Period Start Date Time Period End Date  Value  Low CI  High CI  \\\n",
       "0             04/23/2020           05/05/2020   23.5    22.7     24.3   \n",
       "1             04/23/2020           05/05/2020   32.7    30.2     35.2   \n",
       "\n",
       "  Confidence Interval Quartile Range  \n",
       "0         22.7 - 24.3            NaN  \n",
       "1         30.2 - 35.2            NaN  "
      ]
     },
     "execution_count": 36,
     "metadata": {},
     "output_type": "execute_result"
    }
   ],
   "source": [
    "Indicators_df.head(2)"
   ]
  },
  {
   "cell_type": "code",
   "execution_count": 79,
   "id": "3c729b00",
   "metadata": {},
   "outputs": [
    {
     "data": {
      "text/plain": [
       "70 - 79 years         129\n",
       "18 - 29 years         129\n",
       "30 - 39 years         129\n",
       "50 - 59 years         129\n",
       "60 - 69 years         129\n",
       "80 years and above    129\n",
       "40 - 49 years         129\n",
       "Name: Subgroup, dtype: int64"
      ]
     },
     "execution_count": 79,
     "metadata": {},
     "output_type": "execute_result"
    }
   ],
   "source": [
    "age_df = Indicators_df.loc[Indicators_df[\"Group\"] == \"By Age\"]\n",
    "age_df['Subgroup'].value_counts()"
   ]
  },
  {
   "cell_type": "code",
   "execution_count": 81,
   "id": "ed73b84b",
   "metadata": {},
   "outputs": [
    {
     "data": {
      "text/html": [
       "<div>\n",
       "<style scoped>\n",
       "    .dataframe tbody tr th:only-of-type {\n",
       "        vertical-align: middle;\n",
       "    }\n",
       "\n",
       "    .dataframe tbody tr th {\n",
       "        vertical-align: top;\n",
       "    }\n",
       "\n",
       "    .dataframe thead th {\n",
       "        text-align: right;\n",
       "    }\n",
       "</style>\n",
       "<table border=\"1\" class=\"dataframe\">\n",
       "  <thead>\n",
       "    <tr style=\"text-align: right;\">\n",
       "      <th></th>\n",
       "      <th>Indicator</th>\n",
       "      <th>Group</th>\n",
       "      <th>State</th>\n",
       "      <th>Subgroup</th>\n",
       "      <th>Phase</th>\n",
       "      <th>Time Period</th>\n",
       "      <th>Time Period Label</th>\n",
       "      <th>Time Period Start Date</th>\n",
       "      <th>Time Period End Date</th>\n",
       "      <th>Value</th>\n",
       "      <th>Low CI</th>\n",
       "      <th>High CI</th>\n",
       "      <th>Confidence Interval</th>\n",
       "      <th>Quartile Range</th>\n",
       "    </tr>\n",
       "  </thead>\n",
       "  <tbody>\n",
       "    <tr>\n",
       "      <th>1</th>\n",
       "      <td>Symptoms of Depressive Disorder</td>\n",
       "      <td>By Age</td>\n",
       "      <td>United States</td>\n",
       "      <td>18 - 29 years</td>\n",
       "      <td>1</td>\n",
       "      <td>1</td>\n",
       "      <td>Apr 23 - May 5, 2020</td>\n",
       "      <td>04/23/2020</td>\n",
       "      <td>05/05/2020</td>\n",
       "      <td>32.7</td>\n",
       "      <td>30.2</td>\n",
       "      <td>35.2</td>\n",
       "      <td>30.2 - 35.2</td>\n",
       "      <td>NaN</td>\n",
       "    </tr>\n",
       "    <tr>\n",
       "      <th>2</th>\n",
       "      <td>Symptoms of Depressive Disorder</td>\n",
       "      <td>By Age</td>\n",
       "      <td>United States</td>\n",
       "      <td>30 - 39 years</td>\n",
       "      <td>1</td>\n",
       "      <td>1</td>\n",
       "      <td>Apr 23 - May 5, 2020</td>\n",
       "      <td>04/23/2020</td>\n",
       "      <td>05/05/2020</td>\n",
       "      <td>25.7</td>\n",
       "      <td>24.1</td>\n",
       "      <td>27.3</td>\n",
       "      <td>24.1 - 27.3</td>\n",
       "      <td>NaN</td>\n",
       "    </tr>\n",
       "    <tr>\n",
       "      <th>3</th>\n",
       "      <td>Symptoms of Depressive Disorder</td>\n",
       "      <td>By Age</td>\n",
       "      <td>United States</td>\n",
       "      <td>40 - 49 years</td>\n",
       "      <td>1</td>\n",
       "      <td>1</td>\n",
       "      <td>Apr 23 - May 5, 2020</td>\n",
       "      <td>04/23/2020</td>\n",
       "      <td>05/05/2020</td>\n",
       "      <td>24.8</td>\n",
       "      <td>23.3</td>\n",
       "      <td>26.2</td>\n",
       "      <td>23.3 - 26.2</td>\n",
       "      <td>NaN</td>\n",
       "    </tr>\n",
       "    <tr>\n",
       "      <th>4</th>\n",
       "      <td>Symptoms of Depressive Disorder</td>\n",
       "      <td>By Age</td>\n",
       "      <td>United States</td>\n",
       "      <td>50 - 59 years</td>\n",
       "      <td>1</td>\n",
       "      <td>1</td>\n",
       "      <td>Apr 23 - May 5, 2020</td>\n",
       "      <td>04/23/2020</td>\n",
       "      <td>05/05/2020</td>\n",
       "      <td>23.2</td>\n",
       "      <td>21.5</td>\n",
       "      <td>25.0</td>\n",
       "      <td>21.5 - 25.0</td>\n",
       "      <td>NaN</td>\n",
       "    </tr>\n",
       "    <tr>\n",
       "      <th>5</th>\n",
       "      <td>Symptoms of Depressive Disorder</td>\n",
       "      <td>By Age</td>\n",
       "      <td>United States</td>\n",
       "      <td>60 - 69 years</td>\n",
       "      <td>1</td>\n",
       "      <td>1</td>\n",
       "      <td>Apr 23 - May 5, 2020</td>\n",
       "      <td>04/23/2020</td>\n",
       "      <td>05/05/2020</td>\n",
       "      <td>18.4</td>\n",
       "      <td>17.0</td>\n",
       "      <td>19.7</td>\n",
       "      <td>17.0 - 19.7</td>\n",
       "      <td>NaN</td>\n",
       "    </tr>\n",
       "  </tbody>\n",
       "</table>\n",
       "</div>"
      ],
      "text/plain": [
       "                         Indicator   Group          State       Subgroup  \\\n",
       "1  Symptoms of Depressive Disorder  By Age  United States  18 - 29 years   \n",
       "2  Symptoms of Depressive Disorder  By Age  United States  30 - 39 years   \n",
       "3  Symptoms of Depressive Disorder  By Age  United States  40 - 49 years   \n",
       "4  Symptoms of Depressive Disorder  By Age  United States  50 - 59 years   \n",
       "5  Symptoms of Depressive Disorder  By Age  United States  60 - 69 years   \n",
       "\n",
       "  Phase  Time Period     Time Period Label Time Period Start Date  \\\n",
       "1     1            1  Apr 23 - May 5, 2020             04/23/2020   \n",
       "2     1            1  Apr 23 - May 5, 2020             04/23/2020   \n",
       "3     1            1  Apr 23 - May 5, 2020             04/23/2020   \n",
       "4     1            1  Apr 23 - May 5, 2020             04/23/2020   \n",
       "5     1            1  Apr 23 - May 5, 2020             04/23/2020   \n",
       "\n",
       "  Time Period End Date  Value  Low CI  High CI Confidence Interval  \\\n",
       "1           05/05/2020   32.7    30.2     35.2         30.2 - 35.2   \n",
       "2           05/05/2020   25.7    24.1     27.3         24.1 - 27.3   \n",
       "3           05/05/2020   24.8    23.3     26.2         23.3 - 26.2   \n",
       "4           05/05/2020   23.2    21.5     25.0         21.5 - 25.0   \n",
       "5           05/05/2020   18.4    17.0     19.7         17.0 - 19.7   \n",
       "\n",
       "  Quartile Range  \n",
       "1            NaN  \n",
       "2            NaN  \n",
       "3            NaN  \n",
       "4            NaN  \n",
       "5            NaN  "
      ]
     },
     "execution_count": 81,
     "metadata": {},
     "output_type": "execute_result"
    }
   ],
   "source": [
    "year2020_age_df = age_df.loc[age_df[\"Time Period Start Date\"].str.contains(\"2020\")]\n",
    "year2020_age_df.head()"
   ]
  },
  {
   "cell_type": "code",
   "execution_count": 42,
   "id": "27406936",
   "metadata": {},
   "outputs": [
    {
     "data": {
      "text/plain": [
       "Index(['Indicator', 'Group', 'State', 'Subgroup', 'Phase', 'Time Period',\n",
       "       'Time Period Label', 'Time Period Start Date', 'Time Period End Date',\n",
       "       'Value', 'Low CI', 'High CI', 'Confidence Interval', 'Quartile Range'],\n",
       "      dtype='object')"
      ]
     },
     "execution_count": 42,
     "metadata": {},
     "output_type": "execute_result"
    }
   ],
   "source": [
    "Indicators_df.columns"
   ]
  },
  {
   "cell_type": "code",
   "execution_count": 39,
   "id": "b430ca72",
   "metadata": {},
   "outputs": [
    {
     "data": {
      "text/plain": [
       "8604"
      ]
     },
     "execution_count": 39,
     "metadata": {},
     "output_type": "execute_result"
    }
   ],
   "source": [
    "Indicators_df['Indicator'].count()"
   ]
  },
  {
   "cell_type": "code",
   "execution_count": 47,
   "id": "4795284c",
   "metadata": {},
   "outputs": [
    {
     "data": {
      "text/plain": [
       "1                      2520\n",
       "3.2                    1404\n",
       "3.1                    1296\n",
       "3 (Jan 6 � Mar 29)     1260\n",
       "2                      1050\n",
       "3 (Oct 28 � Dec 21)     840\n",
       "-1                      234\n",
       "Name: Phase, dtype: int64"
      ]
     },
     "execution_count": 47,
     "metadata": {},
     "output_type": "execute_result"
    }
   ],
   "source": [
    "Indicators_df['Phase'].value_counts()"
   ]
  },
  {
   "cell_type": "code",
   "execution_count": 43,
   "id": "9ec9c906",
   "metadata": {},
   "outputs": [
    {
     "data": {
      "text/plain": [
       "United States           2637\n",
       "Wisconsin                117\n",
       "Nevada                   117\n",
       "Vermont                  117\n",
       "Hawaii                   117\n",
       "Idaho                    117\n",
       "Maine                    117\n",
       "Ohio                     117\n",
       "Wyoming                  117\n",
       "Delaware                 117\n",
       "Texas                    117\n",
       "Washington               117\n",
       "Arizona                  117\n",
       "North Dakota             117\n",
       "Alabama                  117\n",
       "Illinois                 117\n",
       "Arkansas                 117\n",
       "New Jersey               117\n",
       "Maryland                 117\n",
       "Indiana                  117\n",
       "District of Columbia     117\n",
       "Virginia                 117\n",
       "Montana                  117\n",
       "Iowa                     117\n",
       "Florida                  117\n",
       "Pennsylvania             117\n",
       "Kansas                   117\n",
       "Connecticut              117\n",
       "Oregon                   117\n",
       "Michigan                 117\n",
       "Missouri                 117\n",
       "West Virginia            117\n",
       "Rhode Island             117\n",
       "Utah                     117\n",
       "Tennessee                117\n",
       "Louisiana                117\n",
       "Georgia                  117\n",
       "Alaska                   117\n",
       "Oklahoma                 117\n",
       "New Mexico               117\n",
       "California               117\n",
       "Kentucky                 117\n",
       "South Dakota             117\n",
       "Mississippi              117\n",
       "New Hampshire            117\n",
       "North Carolina           117\n",
       "New York                 117\n",
       "Colorado                 117\n",
       "Nebraska                 117\n",
       "South Carolina           117\n",
       "Massachusetts            117\n",
       "Minnesota                117\n",
       "Name: State, dtype: int64"
      ]
     },
     "execution_count": 43,
     "metadata": {},
     "output_type": "execute_result"
    }
   ],
   "source": [
    "Indicators_df['State'].value_counts()"
   ]
  },
  {
   "cell_type": "code",
   "execution_count": 46,
   "id": "ffff3f48",
   "metadata": {},
   "outputs": [
    {
     "data": {
      "text/plain": [
       "09/29/2021    234\n",
       "09/15/2021    234\n",
       "08/04/2021    234\n",
       "09/01/2021    234\n",
       "08/18/2021    234\n",
       "07/21/2021    234\n",
       "04/14/2021    216\n",
       "05/12/2021    216\n",
       "04/28/2021    216\n",
       "06/09/2021    216\n",
       "06/23/2021    216\n",
       "05/26/2021    216\n",
       "07/09/2020    210\n",
       "12/09/2020    210\n",
       "05/07/2020    210\n",
       "02/17/2021    210\n",
       "05/28/2020    210\n",
       "11/11/2020    210\n",
       "09/16/2020    210\n",
       "03/17/2021    210\n",
       "09/30/2020    210\n",
       "01/06/2021    210\n",
       "05/21/2020    210\n",
       "05/14/2020    210\n",
       "06/25/2020    210\n",
       "11/25/2020    210\n",
       "06/04/2020    210\n",
       "02/03/2021    210\n",
       "06/11/2020    210\n",
       "10/14/2020    210\n",
       "07/02/2020    210\n",
       "06/18/2020    210\n",
       "03/03/2021    210\n",
       "04/23/2020    210\n",
       "01/20/2021    210\n",
       "08/19/2020    210\n",
       "07/16/2020    210\n",
       "09/02/2020    210\n",
       "10/28/2020    210\n",
       "07/06/2021     63\n",
       "03/30/2021     57\n",
       "12/22/2020     57\n",
       "07/22/2020     57\n",
       "Name: Time Period Start Date, dtype: int64"
      ]
     },
     "execution_count": 46,
     "metadata": {},
     "output_type": "execute_result"
    }
   ],
   "source": [
    "Indicators_df['Time Period Start Date'].value_counts()"
   ]
  },
  {
   "cell_type": "code",
   "execution_count": 45,
   "id": "538ee530",
   "metadata": {},
   "outputs": [
    {
     "data": {
      "text/plain": [
       "1     444\n",
       "39    234\n",
       "38    234\n",
       "35    234\n",
       "37    234\n",
       "34    234\n",
       "36    234\n",
       "33    216\n",
       "30    216\n",
       "28    216\n",
       "32    216\n",
       "29    216\n",
       "31    216\n",
       "7     210\n",
       "15    210\n",
       "14    210\n",
       "23    210\n",
       "6     210\n",
       "21    210\n",
       "13    210\n",
       "5     210\n",
       "22    210\n",
       "8     210\n",
       "20    210\n",
       "12    210\n",
       "16    210\n",
       "27    210\n",
       "19    210\n",
       "11    210\n",
       "3     210\n",
       "26    210\n",
       "18    210\n",
       "10    210\n",
       "2     210\n",
       "25    210\n",
       "17    210\n",
       "9     210\n",
       "24    210\n",
       "4     210\n",
       "Name: Time Period, dtype: int64"
      ]
     },
     "execution_count": 45,
     "metadata": {},
     "output_type": "execute_result"
    }
   ],
   "source": [
    "Indicators_df['Time Period'].value_counts()"
   ]
  },
  {
   "cell_type": "code",
   "execution_count": 48,
   "id": "c926be79",
   "metadata": {},
   "outputs": [
    {
     "data": {
      "text/plain": [
       "Index(['Indicator', 'Group', 'State', 'Subgroup', 'Phase', 'Time Period',\n",
       "       'Time Period Label', 'Time Period Start Date', 'Time Period End Date',\n",
       "       'Value', 'Low CI', 'High CI', 'Confidence Interval', 'Quartile Range'],\n",
       "      dtype='object')"
      ]
     },
     "execution_count": 48,
     "metadata": {},
     "output_type": "execute_result"
    }
   ],
   "source": [
    "Indicators_df.columns"
   ]
  },
  {
   "cell_type": "code",
   "execution_count": 72,
   "id": "fb686c81",
   "metadata": {},
   "outputs": [
    {
     "data": {
      "text/html": [
       "<div>\n",
       "<style scoped>\n",
       "    .dataframe tbody tr th:only-of-type {\n",
       "        vertical-align: middle;\n",
       "    }\n",
       "\n",
       "    .dataframe tbody tr th {\n",
       "        vertical-align: top;\n",
       "    }\n",
       "\n",
       "    .dataframe thead th {\n",
       "        text-align: right;\n",
       "    }\n",
       "</style>\n",
       "<table border=\"1\" class=\"dataframe\">\n",
       "  <thead>\n",
       "    <tr style=\"text-align: right;\">\n",
       "      <th></th>\n",
       "      <th>Indicator</th>\n",
       "      <th>Phase</th>\n",
       "      <th>Time Period Start Date</th>\n",
       "      <th>Time Period End Date</th>\n",
       "      <th>Value</th>\n",
       "    </tr>\n",
       "  </thead>\n",
       "  <tbody>\n",
       "    <tr>\n",
       "      <th>0</th>\n",
       "      <td>Symptoms of Depressive Disorder</td>\n",
       "      <td>1</td>\n",
       "      <td>04/23/2020</td>\n",
       "      <td>05/05/2020</td>\n",
       "      <td>23.5</td>\n",
       "    </tr>\n",
       "    <tr>\n",
       "      <th>1</th>\n",
       "      <td>Symptoms of Depressive Disorder</td>\n",
       "      <td>1</td>\n",
       "      <td>04/23/2020</td>\n",
       "      <td>05/05/2020</td>\n",
       "      <td>32.7</td>\n",
       "    </tr>\n",
       "  </tbody>\n",
       "</table>\n",
       "</div>"
      ],
      "text/plain": [
       "                         Indicator Phase Time Period Start Date  \\\n",
       "0  Symptoms of Depressive Disorder     1             04/23/2020   \n",
       "1  Symptoms of Depressive Disorder     1             04/23/2020   \n",
       "\n",
       "  Time Period End Date  Value  \n",
       "0           05/05/2020   23.5  \n",
       "1           05/05/2020   32.7  "
      ]
     },
     "execution_count": 72,
     "metadata": {},
     "output_type": "execute_result"
    }
   ],
   "source": [
    "df = Indicators_df.loc[Indicators_df['State'] == 'United States', \n",
    "            ['Indicator', 'Phase', 'Time Period Start Date', 'Time Period End Date', 'Value']]\n",
    "\n",
    "df.head(2)"
   ]
  },
  {
   "cell_type": "code",
   "execution_count": 73,
   "id": "7ab642e3",
   "metadata": {},
   "outputs": [
    {
     "data": {
      "text/plain": [
       "1                      684\n",
       "3.2                    486\n",
       "3.1                    378\n",
       "3 (Jan 6 � Mar 29)     342\n",
       "2                      285\n",
       "-1                     234\n",
       "3 (Oct 28 � Dec 21)    228\n",
       "Name: Phase, dtype: int64"
      ]
     },
     "execution_count": 73,
     "metadata": {},
     "output_type": "execute_result"
    }
   ],
   "source": [
    "df[\"Phase\"].value_counts()"
   ]
  },
  {
   "cell_type": "code",
   "execution_count": 74,
   "id": "134ff2f6",
   "metadata": {},
   "outputs": [
    {
     "data": {
      "text/plain": [
       "Indicator                  object\n",
       "Phase                      object\n",
       "Time Period Start Date     object\n",
       "Time Period End Date       object\n",
       "Value                     float64\n",
       "dtype: object"
      ]
     },
     "execution_count": 74,
     "metadata": {},
     "output_type": "execute_result"
    }
   ],
   "source": [
    "df.dtypes"
   ]
  },
  {
   "cell_type": "code",
   "execution_count": 76,
   "id": "8d04efae",
   "metadata": {},
   "outputs": [
    {
     "data": {
      "text/plain": [
       "(1311, 5)"
      ]
     },
     "execution_count": 76,
     "metadata": {},
     "output_type": "execute_result"
    }
   ],
   "source": [
    "year2020_df = df.loc[df['Time Period Start Date'].str.contains(\"2020\")]\n",
    "year2020_df.shape"
   ]
  },
  {
   "cell_type": "code",
   "execution_count": 77,
   "id": "52146fcd",
   "metadata": {},
   "outputs": [
    {
     "data": {
      "text/plain": [
       "08/19/2020    57\n",
       "09/16/2020    57\n",
       "07/22/2020    57\n",
       "09/30/2020    57\n",
       "12/22/2020    57\n",
       "07/09/2020    57\n",
       "10/28/2020    57\n",
       "06/18/2020    57\n",
       "12/09/2020    57\n",
       "07/02/2020    57\n",
       "10/14/2020    57\n",
       "11/11/2020    57\n",
       "07/16/2020    57\n",
       "06/11/2020    57\n",
       "06/04/2020    57\n",
       "11/25/2020    57\n",
       "06/25/2020    57\n",
       "09/02/2020    57\n",
       "05/28/2020    57\n",
       "05/14/2020    57\n",
       "05/21/2020    57\n",
       "05/07/2020    57\n",
       "04/23/2020    57\n",
       "Name: Time Period Start Date, dtype: int64"
      ]
     },
     "execution_count": 77,
     "metadata": {},
     "output_type": "execute_result"
    }
   ],
   "source": [
    "year2020_df['Time Period Start Date'].value_counts()"
   ]
  },
  {
   "cell_type": "code",
   "execution_count": 67,
   "id": "6b5c206f",
   "metadata": {},
   "outputs": [
    {
     "data": {
      "text/plain": [
       "(57, 5)"
      ]
     },
     "execution_count": 67,
     "metadata": {},
     "output_type": "execute_result"
    }
   ],
   "source": [
    "year2020_df = df.loc[df['Time Period Start Date'].str.contains(\"04/23/2020\")]\n",
    "year2020_df.shape"
   ]
  },
  {
   "cell_type": "code",
   "execution_count": 71,
   "id": "26c36994",
   "metadata": {},
   "outputs": [
    {
     "data": {
      "text/plain": [
       "09/29/2021    81\n",
       "Name: Time Period Start Date, dtype: int64"
      ]
     },
     "execution_count": 71,
     "metadata": {},
     "output_type": "execute_result"
    }
   ],
   "source": []
  },
  {
   "cell_type": "code",
   "execution_count": null,
   "id": "522aca63",
   "metadata": {},
   "outputs": [],
   "source": []
  },
  {
   "cell_type": "code",
   "execution_count": 69,
   "id": "8fcbd757",
   "metadata": {},
   "outputs": [
    {
     "data": {
      "text/plain": [
       "0       04/23/2020\n",
       "210     05/07/2020\n",
       "420     05/14/2020\n",
       "630     05/21/2020\n",
       "840     05/28/2020\n",
       "1050    06/04/2020\n",
       "1260    06/11/2020\n",
       "1470    06/18/2020\n",
       "1680    06/25/2020\n",
       "1890    07/02/2020\n",
       "2100    07/09/2020\n",
       "2310    07/16/2020\n",
       "2520    07/22/2020\n",
       "2539    08/19/2020\n",
       "2787    09/02/2020\n",
       "2997    09/16/2020\n",
       "3207    09/30/2020\n",
       "3417    10/14/2020\n",
       "3627    10/28/2020\n",
       "3837    11/11/2020\n",
       "4047    11/25/2020\n",
       "4257    12/09/2020\n",
       "4467    12/22/2020\n",
       "4486    01/06/2021\n",
       "4734    01/20/2021\n",
       "4944    02/03/2021\n",
       "5154    02/17/2021\n",
       "5364    03/03/2021\n",
       "5574    03/17/2021\n",
       "5784    03/30/2021\n",
       "5803    04/14/2021\n",
       "6057    04/28/2021\n",
       "6273    05/12/2021\n",
       "6489    05/26/2021\n",
       "6705    06/09/2021\n",
       "6921    06/23/2021\n",
       "7137    07/06/2021\n",
       "7158    07/21/2021\n",
       "7434    08/04/2021\n",
       "7668    08/18/2021\n",
       "7902    09/01/2021\n",
       "8136    09/15/2021\n",
       "8370    09/29/2021\n",
       "Name: Time Period Start Date, dtype: object"
      ]
     },
     "execution_count": 69,
     "metadata": {},
     "output_type": "execute_result"
    }
   ],
   "source": [
    "df.drop_duplicates(subset='Time Period Start Date')['Time Period Start Date']"
   ]
  },
  {
   "cell_type": "code",
   "execution_count": 70,
   "id": "adfae05e",
   "metadata": {},
   "outputs": [
    {
     "data": {
      "text/plain": [
       "(81, 5)"
      ]
     },
     "execution_count": 70,
     "metadata": {},
     "output_type": "execute_result"
    }
   ],
   "source": [
    "year2020_df = df.loc[df['Time Period Start Date'].str.contains(\"09/29/2021\")]\n",
    "year2020_df.shape"
   ]
  },
  {
   "cell_type": "code",
   "execution_count": null,
   "id": "90ccee58",
   "metadata": {},
   "outputs": [],
   "source": []
  },
  {
   "cell_type": "code",
   "execution_count": 66,
   "id": "4cce8553",
   "metadata": {},
   "outputs": [
    {
     "data": {
      "text/plain": [
       "(1326, 5)"
      ]
     },
     "execution_count": 66,
     "metadata": {},
     "output_type": "execute_result"
    }
   ],
   "source": [
    "year2020_df = df.loc[df['Time Period Start Date'].str.contains(\"2021\")]\n",
    "year2020_df.shape"
   ]
  },
  {
   "cell_type": "code",
   "execution_count": 56,
   "id": "e3e5f1f4",
   "metadata": {},
   "outputs": [
    {
     "data": {
      "text/plain": [
       "Symptoms of Anxiety Disorder or Depressive Disorder    879\n",
       "Symptoms of Anxiety Disorder                           879\n",
       "Symptoms of Depressive Disorder                        879\n",
       "Name: Indicator, dtype: int64"
      ]
     },
     "execution_count": 56,
     "metadata": {},
     "output_type": "execute_result"
    }
   ],
   "source": [
    "df[\"Indicator\"].value_counts()"
   ]
  },
  {
   "cell_type": "code",
   "execution_count": 58,
   "id": "c6964163",
   "metadata": {},
   "outputs": [
    {
     "data": {
      "text/plain": [
       "Time Period Start Date  Indicator                                          \n",
       "01/06/2021              Symptoms of Anxiety Disorder                           19\n",
       "                        Symptoms of Anxiety Disorder or Depressive Disorder    19\n",
       "                        Symptoms of Depressive Disorder                        19\n",
       "01/20/2021              Symptoms of Anxiety Disorder                           19\n",
       "                        Symptoms of Anxiety Disorder or Depressive Disorder    19\n",
       "                                                                               ..\n",
       "12/09/2020              Symptoms of Anxiety Disorder or Depressive Disorder    19\n",
       "                        Symptoms of Depressive Disorder                        19\n",
       "12/22/2020              Symptoms of Anxiety Disorder                           19\n",
       "                        Symptoms of Anxiety Disorder or Depressive Disorder    19\n",
       "                        Symptoms of Depressive Disorder                        19\n",
       "Name: Indicator, Length: 129, dtype: int64"
      ]
     },
     "execution_count": 58,
     "metadata": {},
     "output_type": "execute_result"
    }
   ],
   "source": [
    "df.groupby('Time Period Start Date')[\"Indicator\"].value_counts()"
   ]
  },
  {
   "cell_type": "code",
   "execution_count": 55,
   "id": "e279c64c",
   "metadata": {},
   "outputs": [
    {
     "name": "stderr",
     "output_type": "stream",
     "text": [
      "/Users/tyannapleasant/opt/anaconda3/lib/python3.8/site-packages/matplotlib/backends/backend_agg.py:238: RuntimeWarning: Glyph 65533 missing from current font.\n",
      "  font.set_text(s, 0.0, flags=flags)\n",
      "/Users/tyannapleasant/opt/anaconda3/lib/python3.8/site-packages/matplotlib/backends/backend_agg.py:201: RuntimeWarning: Glyph 65533 missing from current font.\n",
      "  font.set_text(s, 0, flags=flags)\n"
     ]
    },
    {
     "data": {
      "image/png": "[encoded data removed]",
      "text/plain": [
       "<Figure size 432x288 with 1 Axes>"
      ]
     },
     "metadata": {},
     "output_type": "display_data"
    }
   ],
   "source": [
    "phase_df = df[\"Phase\"].value_counts()\n",
    "\n",
    "phase_df.plot(kind=\"pie\", autopct=\"%1.1f%%\")\n",
    "plt.show()"
   ]
  },
  {
   "cell_type": "code",
   "execution_count": 6,
   "id": "b8a69587",
   "metadata": {
    "scrolled": true
   },
   "outputs": [
    {
     "data": {
      "text/html": [
       "<div>\n",
       "<style scoped>\n",
       "    .dataframe tbody tr th:only-of-type {\n",
       "        vertical-align: middle;\n",
       "    }\n",
       "\n",
       "    .dataframe tbody tr th {\n",
       "        vertical-align: top;\n",
       "    }\n",
       "\n",
       "    .dataframe thead th {\n",
       "        text-align: right;\n",
       "    }\n",
       "</style>\n",
       "<table border=\"1\" class=\"dataframe\">\n",
       "  <thead>\n",
       "    <tr style=\"text-align: right;\">\n",
       "      <th></th>\n",
       "      <th>Indicator</th>\n",
       "      <th>Group</th>\n",
       "      <th>State</th>\n",
       "      <th>Subgroup</th>\n",
       "      <th>Phase</th>\n",
       "      <th>Time Period</th>\n",
       "      <th>Time Period Label</th>\n",
       "      <th>Time Period Start Date</th>\n",
       "      <th>Time Period End Date</th>\n",
       "      <th>Value</th>\n",
       "      <th>Low CI</th>\n",
       "      <th>High CI</th>\n",
       "      <th>Confidence Interval</th>\n",
       "      <th>Quartile Range</th>\n",
       "    </tr>\n",
       "  </thead>\n",
       "  <tbody>\n",
       "    <tr>\n",
       "      <th>1</th>\n",
       "      <td>Symptoms of Depressive Disorder</td>\n",
       "      <td>By Age</td>\n",
       "      <td>United States</td>\n",
       "      <td>18 - 29 years</td>\n",
       "      <td>1</td>\n",
       "      <td>1</td>\n",
       "      <td>Apr 23 - May 5, 2020</td>\n",
       "      <td>04/23/2020</td>\n",
       "      <td>05/05/2020</td>\n",
       "      <td>32.7</td>\n",
       "      <td>30.2</td>\n",
       "      <td>35.2</td>\n",
       "      <td>30.2 - 35.2</td>\n",
       "      <td>NaN</td>\n",
       "    </tr>\n",
       "    <tr>\n",
       "      <th>2</th>\n",
       "      <td>Symptoms of Depressive Disorder</td>\n",
       "      <td>By Age</td>\n",
       "      <td>United States</td>\n",
       "      <td>30 - 39 years</td>\n",
       "      <td>1</td>\n",
       "      <td>1</td>\n",
       "      <td>Apr 23 - May 5, 2020</td>\n",
       "      <td>04/23/2020</td>\n",
       "      <td>05/05/2020</td>\n",
       "      <td>25.7</td>\n",
       "      <td>24.1</td>\n",
       "      <td>27.3</td>\n",
       "      <td>24.1 - 27.3</td>\n",
       "      <td>NaN</td>\n",
       "    </tr>\n",
       "    <tr>\n",
       "      <th>3</th>\n",
       "      <td>Symptoms of Depressive Disorder</td>\n",
       "      <td>By Age</td>\n",
       "      <td>United States</td>\n",
       "      <td>40 - 49 years</td>\n",
       "      <td>1</td>\n",
       "      <td>1</td>\n",
       "      <td>Apr 23 - May 5, 2020</td>\n",
       "      <td>04/23/2020</td>\n",
       "      <td>05/05/2020</td>\n",
       "      <td>24.8</td>\n",
       "      <td>23.3</td>\n",
       "      <td>26.2</td>\n",
       "      <td>23.3 - 26.2</td>\n",
       "      <td>NaN</td>\n",
       "    </tr>\n",
       "  </tbody>\n",
       "</table>\n",
       "</div>"
      ],
      "text/plain": [
       "                         Indicator   Group          State       Subgroup  \\\n",
       "1  Symptoms of Depressive Disorder  By Age  United States  18 - 29 years   \n",
       "2  Symptoms of Depressive Disorder  By Age  United States  30 - 39 years   \n",
       "3  Symptoms of Depressive Disorder  By Age  United States  40 - 49 years   \n",
       "\n",
       "  Phase  Time Period     Time Period Label Time Period Start Date  \\\n",
       "1     1            1  Apr 23 - May 5, 2020             04/23/2020   \n",
       "2     1            1  Apr 23 - May 5, 2020             04/23/2020   \n",
       "3     1            1  Apr 23 - May 5, 2020             04/23/2020   \n",
       "\n",
       "  Time Period End Date  Value  Low CI  High CI Confidence Interval  \\\n",
       "1           05/05/2020   32.7    30.2     35.2         30.2 - 35.2   \n",
       "2           05/05/2020   25.7    24.1     27.3         24.1 - 27.3   \n",
       "3           05/05/2020   24.8    23.3     26.2         23.3 - 26.2   \n",
       "\n",
       "  Quartile Range  \n",
       "1            NaN  \n",
       "2            NaN  \n",
       "3            NaN  "
      ]
     },
     "execution_count": 6,
     "metadata": {},
     "output_type": "execute_result"
    }
   ],
   "source": [
    "headers=Indicators_df.loc[0]\n",
    "Indicators_df=Indicators_df.drop(0)\n",
    "Indicators_df.head(3)"
   ]
  },
  {
   "cell_type": "code",
   "execution_count": null,
   "id": "d1fe87ef",
   "metadata": {},
   "outputs": [],
   "source": [
    "# bar chart \n",
    "\n",
    "\n",
    "# Set a title for the chart\n",
    "plt.title('\n",
    "plt.ylabel(')\n",
    "plt.xlabel(')\n",
    "\n",
    "plt.show()\n",
    "plt.tight_layout()"
   ]
  }
 ],
 "metadata": {
  "kernelspec": {
   "display_name": "Python 3",
   "language": "python",
   "name": "python3"
  },
  "language_info": {
   "codemirror_mode": {
    "name": "ipython",
    "version": 3
   },
   "file_extension": ".py",
   "mimetype": "text/x-python",
   "name": "python",
   "nbconvert_exporter": "python",
   "pygments_lexer": "ipython3",
   "version": "3.8.8"
  }
 },
 "nbformat": 4,
 "nbformat_minor": 5
}
