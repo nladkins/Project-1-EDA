{
 "cells": [
  {
   "cell_type": "code",
   "execution_count": 1,
   "id": "32218373",
   "metadata": {},
   "outputs": [],
   "source": [
    "# Dependencies and Setup\n",
    "import numpy\n",
    "import matplotlib.pyplot as plt\n",
    "import pandas as pd\n",
    "import numpy as np\n",
    "import json\n",
    "from pprint import pprint\n",
    "import requests\n",
    "import time\n",
    "from scipy import stats\n",
    "import seaborn as sn\n",
    "%matplotlib inline\n",
    "\n",
    "# Incorporated citipy to determine city based on latitude and longitude\n",
    "from citipy import citipy\n",
    "\n",
    "# Study data file\n",
    "stanford_path = \"Stanford_Data.csv\"\n",
    "\n",
    "stanford_df = pd.read_csv(stanford_path)"
   ]
  },
  {
   "cell_type": "code",
   "execution_count": 2,
   "id": "5d486394",
   "metadata": {
    "scrolled": false
   },
   "outputs": [
    {
     "name": "stdout",
     "output_type": "stream",
     "text": [
      "3423\n"
     ]
    }
   ],
   "source": [
    "# Preview Data Frame\n",
    "stanford_df.head()\n",
    "print(len(stanford_df))"
   ]
  },
  {
   "cell_type": "code",
   "execution_count": 3,
   "id": "20ec58a3",
   "metadata": {},
   "outputs": [],
   "source": [
    "# DROPPING INCOMPLETE SURVEYS WHICH ARE ONES THAT DO NOT HAVE TIMESTAMPS FOR EACH SURVEY MILESTONE.\n",
    "\n",
    "# Replace \"incomplete\" or a score of \"0\" for timestamps with blanks to drop null values.\n",
    "stanford_df[\"introduction_timestamp\"].replace(\"[not completed]\", np.nan, inplace=True)\n",
    "# stanford_df.replace(\"[not completed]\", np.nan, inplace=True)\n",
    "stanford_df[\"social_interactions_timestamp\"].replace(\"0\", np.nan, inplace=True)\n",
    "stanford_df[\"hobbies_and_health_timestamp\"].replace(\"0\", np.nan, inplace=True)\n",
    "stanford_df[\"introduction_timestamp\"].replace(\"0\", np.nan, inplace=True)\n",
    "stanford_df[\"professional_life_timestamp\"].replace(\"0\", np.nan, inplace=True)\n",
    "stanford_df[\"social_contributions_timestamp\"].replace(\"0\", np.nan, inplace=True)"
   ]
  },
  {
   "cell_type": "code",
   "execution_count": 4,
   "id": "bc15f8d2",
   "metadata": {},
   "outputs": [
    {
     "name": "stdout",
     "output_type": "stream",
     "text": [
      "2778\n"
     ]
    }
   ],
   "source": [
    "# Drop Null timestamps to retain completed surveys.\n",
    "completed_surveys = stanford_df.dropna(subset=[\"introduction_timestamp\", \"social_interactions_timestamp\", \n",
    "                                               \"hobbies_and_health_timestamp\", \"professional_life_timestamp\", \n",
    "                                               \"social_contributions_timestamp\"])\n",
    "print(len(completed_surveys))"
   ]
  },
  {
   "cell_type": "code",
   "execution_count": 5,
   "id": "8d21f1f6",
   "metadata": {
    "scrolled": true
   },
   "outputs": [
    {
     "name": "stdout",
     "output_type": "stream",
     "text": [
      "2778\n"
     ]
    }
   ],
   "source": [
    "# DROPPING UNNECESSARY QUESTIONS\n",
    "\n",
    "clean_df = completed_surveys.drop(columns=[\"introduction_timestamp\", \"asian_category\", \"state_in_india\", \"province_in_china\", \n",
    "                          \"state_other_countries\", \"introduction_complete\", \"social_interactions_timestamp\", \n",
    "                          \"social_interactions_complete\", \"hobbies_and_health_timestamp\", \n",
    "                          \"hobbies_and_health_complete\", \"professional_life_timestamp\", \n",
    "                          \"professional_life_complete\", \"social_contributions_timestamp\", \n",
    "                          \"social_contributions_complete\"])\n",
    "print(len(clean_df))"
   ]
  },
  {
   "cell_type": "code",
   "execution_count": 6,
   "id": "d725a211",
   "metadata": {},
   "outputs": [
    {
     "name": "stdout",
     "output_type": "stream",
     "text": [
      "2050\n"
     ]
    }
   ],
   "source": [
    "# Narrowing Down to the US responses.\n",
    "us_responses = clean_df[clean_df[\"country\"] == 1]\n",
    "print(len(us_responses))"
   ]
  },
  {
   "cell_type": "code",
   "execution_count": 7,
   "id": "8d822b26",
   "metadata": {},
   "outputs": [],
   "source": [
    "# # In case there are any empty values, drop surveys that didn't respond to post and pre-covid exercise Q&A.\n",
    "# #  Should not be an issue because only completed timestamps were retained\n",
    "# us_responses[\"covid_exercise\"].replace(\"\", np.nan, inplace=True)\n",
    "# us_responses[\"physical_activities\"].replace(\"\", np.nan, inplace=True)\n",
    "# print(len(us_responses))"
   ]
  },
  {
   "cell_type": "code",
   "execution_count": 8,
   "id": "1e93ae35",
   "metadata": {},
   "outputs": [],
   "source": [
    "# # In case there are any empty values, drop surveys that didn't respond to post and pre-covid exercise Q&A.\n",
    "# #  Should not be an issue because only completed timestamps were retained\n",
    "# us_responses[\"covid_exercise\"].dropna(inplace = True)\n",
    "# us_responses[\"physical_activities\"].dropna(inplace = True)\n",
    "# print(len(us_responses))"
   ]
  },
  {
   "cell_type": "code",
   "execution_count": 9,
   "id": "d8f44334",
   "metadata": {},
   "outputs": [
    {
     "name": "stdout",
     "output_type": "stream",
     "text": [
      "2050\n"
     ]
    }
   ],
   "source": [
    "# Creating Copy to get pre-existing dataframe\n",
    "preexisting_us = us_responses.copy()\n",
    "print(len(preexisting_us))"
   ]
  },
  {
   "cell_type": "code",
   "execution_count": 10,
   "id": "c8ebf774",
   "metadata": {},
   "outputs": [
    {
     "name": "stdout",
     "output_type": "stream",
     "text": [
      "2050\n"
     ]
    }
   ],
   "source": [
    "nonexisting_us = us_responses.copy()\n",
    "print(len(nonexisting_us))"
   ]
  },
  {
   "cell_type": "code",
   "execution_count": 11,
   "id": "7f093e25",
   "metadata": {},
   "outputs": [],
   "source": [
    "preexisting_us = preexisting_us[preexisting_us[\"diabetes\"] == 1 | \n",
    "                                (preexisting_us[\"cardiovascular_disorders\"] == 1) | \n",
    "                                (preexisting_us[\"obesity\"] == 1) | \n",
    "                                (preexisting_us[\"respiratory_infections\"] == 1) | \n",
    "                                (preexisting_us[\"respiratory_disorders_exam\"] == 1) | \n",
    "                                (preexisting_us[\"gastrointestinal_disorders\"] == 1) | \n",
    "                                (preexisting_us[\"chronic_kidney_disease\"] == 1) | \n",
    "                                (preexisting_us[\"autoimmune_disease\"] == 1) | \n",
    "                                (preexisting_us[\"chronic_fatigue_syndrome_a\"] == 1)]"
   ]
  },
  {
   "cell_type": "code",
   "execution_count": 12,
   "id": "40a4851f",
   "metadata": {},
   "outputs": [
    {
     "name": "stdout",
     "output_type": "stream",
     "text": [
      "155\n"
     ]
    }
   ],
   "source": [
    "print(len(preexisting_us))\n",
    "preexisting_us.to_csv(\"preexisting_us.csv\", encoding='utf-8', index=False)"
   ]
  },
  {
   "cell_type": "code",
   "execution_count": 13,
   "id": "0cffd83d",
   "metadata": {},
   "outputs": [
    {
     "name": "stdout",
     "output_type": "stream",
     "text": [
      "155\n"
     ]
    }
   ],
   "source": [
    "print(len(preexisting_us))"
   ]
  },
  {
   "cell_type": "code",
   "execution_count": 14,
   "id": "3c8e6e13",
   "metadata": {},
   "outputs": [
    {
     "name": "stdout",
     "output_type": "stream",
     "text": [
      "2050\n"
     ]
    }
   ],
   "source": [
    "print(len(nonexisting_us))"
   ]
  },
  {
   "cell_type": "code",
   "execution_count": 15,
   "id": "6f286782",
   "metadata": {},
   "outputs": [],
   "source": [
    "nonexisting_us = nonexisting_us[(nonexisting_us[\"diabetes\"] == 2) & \n",
    "                                (nonexisting_us[\"cardiovascular_disorders\"] == 2) & \n",
    "                                (nonexisting_us[\"obesity\"] == 2) & \n",
    "                                (nonexisting_us[\"respiratory_infections\"] == 2) & \n",
    "                                (nonexisting_us[\"respiratory_disorders_exam\"] == 2) & \n",
    "                                (nonexisting_us[\"gastrointestinal_disorders\"] == 2) & \n",
    "                                (nonexisting_us[\"chronic_kidney_disease\"] == 2) & \n",
    "                                (nonexisting_us[\"autoimmune_disease\"] == 2) & \n",
    "                                (nonexisting_us[\"chronic_fatigue_syndrome_a\"] == 2)]"
   ]
  },
  {
   "cell_type": "code",
   "execution_count": null,
   "id": "b10fbccd",
   "metadata": {},
   "outputs": [
    {
     "name": "stdout",
     "output_type": "stream",
     "text": [
      "827\n"
     ]
    }
   ],
   "source": [
    "print(len(nonexisting_us))\n",
    "nonexisting_us.to_csv(\"nonexisting_us.csv\", encoding='utf-8', index=False)"
   ]
  },
  {
   "cell_type": "code",
   "execution_count": null,
   "id": "9f95d2b1",
   "metadata": {
    "scrolled": true
   },
   "outputs": [],
   "source": [
    "# Computation of data for those that identified as having a pre-existing condition.\n",
    "p_physical_mean = preexisting_us.groupby([\"country\"],as_index=True).physical_activities.mean()\n",
    "p_physical_median = preexisting_us.groupby([\"country\"],as_index=True).physical_activities.median()\n",
    "# p_physical_mode = preexisting_us.groupby([\"country\"],as_index=True).physical_activities.mode()\n",
    "p_physical_sem = preexisting_us.groupby([\"country\"],as_index=True).physical_activities.sem()\n",
    "p_physical_std = preexisting_us.groupby([\"country\"],as_index=True).physical_activities.std()\n",
    "p_covid_mean = preexisting_us.groupby([\"country\"],as_index=True).covid_exercise.mean()\n",
    "p_covid_median = preexisting_us.groupby([\"country\"],as_index=True).covid_exercise.median()\n",
    "# p_meancovid_mode = preexisting_us.groupby([\"country\"],as_index=True).covid_exercise.mode()\n",
    "p_covid_sem = preexisting_us.groupby([\"country\"],as_index=True).covid_exercise.sem()\n",
    "p_covid_std = preexisting_us.groupby([\"country\"],as_index=True).covid_exercise.std()\n",
    "print(p_physical_mean)"
   ]
  },
  {
   "cell_type": "code",
   "execution_count": null,
   "id": "74fbee24",
   "metadata": {},
   "outputs": [],
   "source": [
    "# Computation of data for those that identified as NOT having a pre-existing condition.\n",
    "n_physical_mean = nonexisting_us.groupby([\"country\"],as_index=True).physical_activities.mean()\n",
    "n_physical_median = nonexisting_us.groupby([\"country\"],as_index=True).physical_activities.median()\n",
    "# physical_mode = nonexisting_us.groupby([\"country\"],as_index=True).physical_activities.mode()\n",
    "n_physical_sem = nonexisting_us.groupby([\"country\"],as_index=True).physical_activities.sem()\n",
    "n_physical_std = nonexisting_us.groupby([\"country\"],as_index=True).physical_activities.std()\n",
    "n_covid_mean = nonexisting_us.groupby([\"country\"],as_index=True).covid_exercise.mean()\n",
    "n_covid_median = nonexisting_us.groupby([\"country\"],as_index=True).covid_exercise.median()\n",
    "# covid_mode = nonexisting_us.groupby([\"country\"],as_index=True).covid_exercise.mode()\n",
    "n_covid_sem = nonexisting_us.groupby([\"country\"],as_index=True).covid_exercise.sem()\n",
    "n_covid_std = nonexisting_us.groupby([\"country\"],as_index=True).covid_exercise.std()\n",
    "print(n_physical_mean)"
   ]
  },
  {
   "cell_type": "code",
   "execution_count": null,
   "id": "b334cd06",
   "metadata": {},
   "outputs": [],
   "source": [
    "# Dependent Values for Scatter Plot\n",
    "plt.figure(figsize=(10,5))\n",
    "plt.bar(p_physical_mean, p_covid_mean)\n",
    "\n",
    "# Size, Labels, and Grid\n",
    "plt.title(\"Activities of Individuals w/ Pre-existing Conditions\")\n",
    "plt.ylabel(\"Average\")\n",
    "plt.xlabel(\"Before and After COVID Activity\")\n",
    "\n",
    "# # Save the Plot\n",
    "# plt.savefig(\"Script Outputs/Lat_v_Temp.png\")\n",
    "\n",
    "# Show plot\n",
    "plt.show()"
   ]
  },
  {
   "cell_type": "code",
   "execution_count": null,
   "id": "81f3b89a",
   "metadata": {},
   "outputs": [],
   "source": []
  }
 ],
 "metadata": {
  "kernelspec": {
   "display_name": "Python 3",
   "language": "python",
   "name": "python3"
  },
  "language_info": {
   "codemirror_mode": {
    "name": "ipython",
    "version": 3
   },
   "file_extension": ".py",
   "mimetype": "text/x-python",
   "name": "python",
   "nbconvert_exporter": "python",
   "pygments_lexer": "ipython3",
   "version": "3.6.13"
  }
 },
 "nbformat": 4,
 "nbformat_minor": 5
}
